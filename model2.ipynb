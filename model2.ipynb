{
 "cells": [
  {
   "cell_type": "code",
   "execution_count": null,
   "metadata": {},
   "outputs": [],
   "source": [
    "#Import all the libraries\n",
    "import os\n",
    "import numpy as np\n",
    "import pathlib\n",
    "\n",
    "from skimage.io import imread\n",
    "from sklearn.preprocessing import LabelEncoder\n",
    "from sklearn.model_selection import train_test_split\n",
    "from sklearn.svm import SVC\n",
    "from sklearn.metrics import accuracy_score, classification_report\n",
    "from sklearn.decomposition import PCA"
   ]
  },
  {
   "cell_type": "code",
   "execution_count": 2,
   "metadata": {},
   "outputs": [
    {
     "name": "stdout",
     "output_type": "stream",
     "text": [
      "Loading category: Broken soybeans\n",
      "Loading category: Immature soybeans\n",
      "Loading category: Intact soybeans\n",
      "Loading category: Skin-damaged soybeans\n",
      "Loading category: Spotted soybeans\n"
     ]
    }
   ],
   "source": [
    "# Define the path to the directory containing the image folders\n",
    "data_dir = pathlib.Path('./images/').with_suffix('')\n",
    "\n",
    "Categories = ['Broken soybeans', 'Immature soybeans', 'Intact soybeans', 'Skin-damaged soybeans', 'Spotted soybeans']\n",
    "image_data = []  # List to store flattened image vectors\n",
    "labels = []  # List to store category labels\n",
    "\n",
    "\n",
    "for category in Categories:\n",
    "    print(f'Loading category: {category}')\n",
    "    path = os.path.join(data_dir, category)\n",
    "    \n",
    "    # Loop through each image in the category folder\n",
    "    for img_filename in os.listdir(path):\n",
    "        img_path = os.path.join(path, img_filename)\n",
    "        \n",
    "        # Read the image using scikit-image\n",
    "        img = imread(img_path)\n",
    "        \n",
    "        # Flatten the image and add it to the data\n",
    "        image_data.append(img.flatten())\n",
    "        \n",
    "        # Add the label (category) to the labels list\n",
    "        labels.append(category)\n",
    "\n",
    "image_data = np.array(image_data)\n",
    "label_encoder = LabelEncoder()\n",
    "encoded_labels = label_encoder.fit_transform(labels)\n"
   ]
  },
  {
   "cell_type": "code",
   "execution_count": null,
   "metadata": {},
   "outputs": [],
   "source": [
    "n_components = 1  # Adjust this number as needed\n",
    "pca = PCA(n_components=n_components, random_state=42)\n",
    "image_data_pca = pca.fit_transform(image_data)"
   ]
  },
  {
   "cell_type": "code",
   "execution_count": 4,
   "metadata": {},
   "outputs": [],
   "source": [
    "# Split the PCA-transformed data into training and testing sets\n",
    "X_train_pca, X_test_pca, y_train, y_test = train_test_split(image_data_pca, encoded_labels, test_size=0.2, random_state=42)\n",
    "\n",
    "# Create an SVM model with a linear kernel (you can choose other kernels)\n",
    "svm_model = SVC(kernel='linear', random_state=42)\n",
    "\n",
    "# Train the SVM model on the PCA-transformed training data\n",
    "svm_model.fit(X_train_pca, y_train)\n",
    "\n",
    "# Evaluate the svm_model on the PCA-transformed testing data\n",
    "y_pred_pca = svm_model.predict(X_test_pca)\n",
    "accuracy_pca = accuracy_score(y_test, y_pred_pca)\n",
    "report_pca = classification_report(y_test, y_pred_pca)\n",
    "\n",
    "# Print accuracy and classification report\n",
    "print(f'Accuracy with PCA: {accuracy_pca}')\n",
    "print(f'Classification Report with PCA:\\n{report_pca}')"
   ]
  },
  {
   "cell_type": "code",
   "execution_count": 4,
   "metadata": {},
   "outputs": [],
   "source": [
    "X_train, X_test, y_train, y_test = train_test_split(image_data, encoded_labels, test_size=0.2, random_state=42)\n",
    "# Create an SVM model with a linear kernel (you can choose other kernels)\n",
    "svm_model = SVC(kernel='linear', random_state=42)\n",
    "svm_model2 = SVC(kernel='rbf', random_state=42)\n",
    "svm_model3 = SVC(kernel='poly', random_state=42)\n",
    "\n",
    "svm_model.fit(X_train, y_train)\n",
    "svm_model2.fit(X_train, y_train)\n",
    "svm_model3.fit(X_train, y_train)"
   ]
  },
  {
   "cell_type": "code",
   "execution_count": null,
   "metadata": {},
   "outputs": [],
   "source": [
    "# Evaluate svm_model\n",
    "y_pred1 = svm_model.predict(X_test)\n",
    "accuracy1 = accuracy_score(y_test, y_pred1)\n",
    "report1 = classification_report(y_test, y_pred1)\n",
    "\n",
    "# Evaluate svm_model2\n",
    "y_pred2 = svm_model2.predict(X_test)\n",
    "accuracy2 = accuracy_score(y_test, y_pred2)\n",
    "report2 = classification_report(y_test, y_pred2)\n",
    "\n",
    "# Evaluate svm_model3\n",
    "y_pred3 = svm_model3.predict(X_test)\n",
    "accuracy3 = accuracy_score(y_test, y_pred3)\n",
    "report3 = classification_report(y_test, y_pred3)\n",
    "\n",
    "# Print accuracy and classification reports for comparison\n",
    "print(\"Accuracy (Linear Kernel):\", accuracy1)\n",
    "print(\"Classification Report (Linear Kernel):\\n\", report1)\n",
    "\n",
    "# Print accuracy and classification reports for other kernels\n",
    "print(\"Accuracy (Exponential Kernel):\", accuracy2)\n",
    "print(\"Classification Report (Exponential Kernel):\\n\", report2)\n",
    "\n",
    "print(\"Accuracy (Poly Kernel):\", accuracy3)\n",
    "print(\"Classification Report (Poly Kernel):\\n\", report3)"
   ]
  }
 ],
 "metadata": {
  "kernelspec": {
   "display_name": "Python 3",
   "language": "python",
   "name": "python3"
  },
  "language_info": {
   "codemirror_mode": {
    "name": "ipython",
    "version": 3
   },
   "file_extension": ".py",
   "mimetype": "text/x-python",
   "name": "python",
   "nbconvert_exporter": "python",
   "pygments_lexer": "ipython3",
   "version": "3.11.6"
  }
 },
 "nbformat": 4,
 "nbformat_minor": 2
}
